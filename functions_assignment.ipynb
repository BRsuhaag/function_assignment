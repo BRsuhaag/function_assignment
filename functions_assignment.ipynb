{
  "nbformat": 4,
  "nbformat_minor": 0,
  "metadata": {
    "colab": {
      "provenance": []
    },
    "kernelspec": {
      "name": "python3",
      "display_name": "Python 3"
    },
    "language_info": {
      "name": "python"
    }
  },
  "cells": [
    {
      "cell_type": "code",
      "execution_count": null,
      "metadata": {
        "id": "NhhxX8NzWxiX"
      },
      "outputs": [],
      "source": [
        "# 1. What is the difference between a function and a method in Python?\n",
        "'''\n",
        "Function: A block of code that performs a specific task and can be called from anywhere in the program.\n",
        "Method: A function that is associated with a particular object or class.\n",
        "'''\n",
        "# Function\n",
        "def greet(name):\n",
        "    print(\"Hello, \" + name)\n",
        "\n",
        "# Method (within a class)\n",
        "class Person:\n",
        "    def greet(self):\n",
        "        print(\"Hello, my name is \" + self.name)"
      ]
    },
    {
      "cell_type": "code",
      "source": [
        "# 2. Explain the concept of function arguments and parameters in Python.\n",
        "'''\n",
        "while defining a function parameters are used and while calling a function arguments are used.\n",
        "'''\n",
        "def add(a, b):\n",
        "  print(a+b)\n",
        "\n",
        "add(2, 3)"
      ],
      "metadata": {
        "colab": {
          "base_uri": "https://localhost:8080/"
        },
        "id": "CfY-bVRokIQk",
        "outputId": "c1c9b628-5190-48eb-ddcd-416d91dd8470"
      },
      "execution_count": null,
      "outputs": [
        {
          "output_type": "stream",
          "name": "stdout",
          "text": [
            "5\n"
          ]
        }
      ]
    },
    {
      "cell_type": "code",
      "source": [
        "# 3. What are the different ways to define and call a function in Python?\n",
        "'''\n",
        "using def key word and lambda function\n",
        "'''\n",
        "def add(a, b):\n",
        "  print(a+b)\n",
        "\n",
        "add(2, 3)"
      ],
      "metadata": {
        "colab": {
          "base_uri": "https://localhost:8080/"
        },
        "id": "qywVoanZkwG8",
        "outputId": "7092de24-eab5-445a-a922-fe67553b4a85"
      },
      "execution_count": null,
      "outputs": [
        {
          "output_type": "stream",
          "name": "stdout",
          "text": [
            "5\n"
          ]
        }
      ]
    },
    {
      "cell_type": "code",
      "source": [
        "# 4. What is the purpose of the `return` statement in a Python function?\n",
        "'''\n",
        "return statement is used to return the value from the function and store them\n",
        "'''\n",
        "def add(a, b):\n",
        "  return a+b\n",
        "\n",
        "add(2, 3)"
      ],
      "metadata": {
        "colab": {
          "base_uri": "https://localhost:8080/"
        },
        "id": "WGAkIAuSxKXj",
        "outputId": "50f8bdd0-095b-424d-c79b-a7e33e1d3487"
      },
      "execution_count": null,
      "outputs": [
        {
          "output_type": "execute_result",
          "data": {
            "text/plain": [
              "5"
            ]
          },
          "metadata": {},
          "execution_count": 5
        }
      ]
    },
    {
      "cell_type": "code",
      "source": [
        "# 5. What are iterators in Python and how do they differ from iterables?\n",
        "'''\n",
        "iterators are functions used to iterate over iterable objects like lists, tuples, dicts, and sets.\n",
        "'''\n",
        "a = [1, 2, 3, 4, 5] # iterable\n",
        "for i in a: # iterator\n",
        "  print(i)"
      ],
      "metadata": {
        "colab": {
          "base_uri": "https://localhost:8080/"
        },
        "id": "3l4lBFL5xYSk",
        "outputId": "1fa4062b-e344-4125-e15d-716d52d85542"
      },
      "execution_count": null,
      "outputs": [
        {
          "output_type": "stream",
          "name": "stdout",
          "text": [
            "1\n",
            "2\n",
            "3\n",
            "4\n",
            "5\n"
          ]
        }
      ]
    },
    {
      "cell_type": "code",
      "source": [
        "# 6. Explain the concept of generators in Python and how they are defined.\n",
        "'''\n",
        "Generators are a special type of function that returns an iterator. They use the yield keyword to return values one at a time and pausing execution\n",
        "'''\n",
        "\n",
        "def count_up(n):\n",
        "    for i in range(n):\n",
        "        yield i\n",
        "\n",
        "for number in count_up(5):\n",
        "    print(number)"
      ],
      "metadata": {
        "colab": {
          "base_uri": "https://localhost:8080/"
        },
        "id": "znt0QNC7yE3p",
        "outputId": "ee1cf4f2-4d10-4108-82d9-7c959508e6e7"
      },
      "execution_count": null,
      "outputs": [
        {
          "output_type": "stream",
          "name": "stdout",
          "text": [
            "0\n",
            "1\n",
            "2\n",
            "3\n",
            "4\n"
          ]
        }
      ]
    },
    {
      "cell_type": "code",
      "source": [
        "# 7. What are the advantages of using generators over regular functions?\n",
        "'''\n",
        "generators are more memory efficient and faster than regular functions\n",
        "'''\n",
        "def count(n):\n",
        "  for i in range(n):\n",
        "    yield i\n",
        "\n",
        "for i in count(5):\n",
        "  print(i)"
      ],
      "metadata": {
        "colab": {
          "base_uri": "https://localhost:8080/"
        },
        "id": "xBHUPQH5zHsp",
        "outputId": "99f944a9-196c-4c4a-f19b-0d96d7fb6d31"
      },
      "execution_count": null,
      "outputs": [
        {
          "output_type": "stream",
          "name": "stdout",
          "text": [
            "0\n",
            "1\n",
            "2\n",
            "3\n",
            "4\n"
          ]
        }
      ]
    },
    {
      "cell_type": "code",
      "source": [
        "# 8. What is a lambda function in Python and when is it typically used?\n",
        "'''\n",
        "lambda is a anonymous function for small execution\n",
        "'''\n",
        "add = lambda a, b: a+b\n",
        "add(2, 3)"
      ],
      "metadata": {
        "colab": {
          "base_uri": "https://localhost:8080/"
        },
        "id": "96ASv9phzbzq",
        "outputId": "81a2ae71-477a-4dc5-94f7-323b649f0a0b"
      },
      "execution_count": null,
      "outputs": [
        {
          "output_type": "execute_result",
          "data": {
            "text/plain": [
              "5"
            ]
          },
          "metadata": {},
          "execution_count": 14
        }
      ]
    },
    {
      "cell_type": "code",
      "source": [
        "# 9. Explain the purpose and usage of the `map()` function in Python.\n",
        "'''\n",
        "map() is used for the allocating the function to next object\n",
        "'''\n",
        "a = [1, 2, 3, 4, 5]\n",
        "b = map(lambda x: x*2, a)\n",
        "print(list(b))"
      ],
      "metadata": {
        "colab": {
          "base_uri": "https://localhost:8080/"
        },
        "id": "-KFqlsxZ0Gpt",
        "outputId": "645787a7-13da-481b-967d-b7ee4532b53d"
      },
      "execution_count": null,
      "outputs": [
        {
          "output_type": "stream",
          "name": "stdout",
          "text": [
            "[2, 4, 6, 8, 10]\n"
          ]
        }
      ]
    },
    {
      "cell_type": "code",
      "source": [
        "# 10. What is the difference between `map()`, `reduce()`, and `filter()` functions in Python?\n",
        "'''\n",
        "map(): Applies a function to each element of an iterable.\n",
        "reduce(): Applies a function to an iterable, cumulatively reducing it to a single value.\n",
        "filter(): Filters elements from an iterable based on a given condition.\n",
        "'''\n",
        "numbers = [1, 2, 3, 4, 5]\n",
        "\n",
        "# map()\n",
        "squared_numbers = list(map(lambda x: x**2, numbers))\n",
        "\n",
        "# reduce()\n",
        "from functools import reduce\n",
        "product = reduce(lambda x, y: x * y, numbers)\n",
        "\n",
        "# filter()\n",
        "even_numbers = list(filter(lambda x: x % 2 == 0, numbers))"
      ],
      "metadata": {
        "id": "mSowtCtK0lVP"
      },
      "execution_count": null,
      "outputs": []
    },
    {
      "cell_type": "code",
      "source": [
        "#11. Using pen & Paper write the internal mechanism for sum operation using  reduce function on this given list:[47,11,42,13];\n",
        "arr = [47,11,42,13]\n",
        "from functools import reduce\n",
        "def sum_of(x, y):\n",
        "  return x+y\n",
        "\n",
        "addition = reduce(sum_of, arr)\n",
        "print(addition)\n"
      ],
      "metadata": {
        "colab": {
          "base_uri": "https://localhost:8080/"
        },
        "id": "TCswCtpa21Mq",
        "outputId": "7b07d967-bb1e-4f76-927d-dc7d2004d6b2"
      },
      "execution_count": 2,
      "outputs": [
        {
          "output_type": "stream",
          "name": "stdout",
          "text": [
            "113\n"
          ]
        }
      ]
    },
    {
      "cell_type": "code",
      "source": [
        "# 1. Write a Python function that takes a list of numbers as input and returns the sum of all even numbers in the list.\n",
        "a = [1, 2, 3, 3, 5, 6,7 ,78 ,8]\n",
        "def return_even(a):\n",
        "  #a = int(input(\"enter the numbers\"))\n",
        "\n",
        "  sum_of_even = []\n",
        "  for numbers in a:\n",
        "    if numbers % 2 == 0:\n",
        "      sum_of_even.append(numbers)\n",
        "  return f\"sum of even in {a} is sum of {sum_of_even} = {sum(sum_of_even)}\"\n",
        "\n",
        "return_even(a)\n"
      ],
      "metadata": {
        "id": "N4As7N615z82",
        "colab": {
          "base_uri": "https://localhost:8080/",
          "height": 35
        },
        "outputId": "3991c3f3-d4e6-4466-f424-9b58a5417b1a"
      },
      "execution_count": null,
      "outputs": [
        {
          "output_type": "execute_result",
          "data": {
            "text/plain": [
              "'sum of even in [1, 2, 3, 3, 5, 6, 7, 78, 8] is sum of [2, 6, 78, 8] = 94'"
            ],
            "application/vnd.google.colaboratory.intrinsic+json": {
              "type": "string"
            }
          },
          "metadata": {},
          "execution_count": 16
        }
      ]
    },
    {
      "cell_type": "code",
      "source": [
        "# 2. Create a Python function that accepts a string and returns the reverse of that string.\n",
        "def reverse_string(strings):\n",
        "  return strings[::-1]\n",
        "\n",
        "reverse_string(\"whatsupp man\")"
      ],
      "metadata": {
        "colab": {
          "base_uri": "https://localhost:8080/",
          "height": 35
        },
        "id": "He0B0PLka218",
        "outputId": "0dd3acff-1bbf-467a-b1e4-282347c3beba"
      },
      "execution_count": null,
      "outputs": [
        {
          "output_type": "execute_result",
          "data": {
            "text/plain": [
              "'nam ppustahw'"
            ],
            "application/vnd.google.colaboratory.intrinsic+json": {
              "type": "string"
            }
          },
          "metadata": {},
          "execution_count": 17
        }
      ]
    },
    {
      "cell_type": "code",
      "source": [
        "# 3. Implement a Python function that takes a list of integers and returns a new list containing the squares of each number.\n",
        "a = [1, 2, 3, 4, 5]\n",
        "def square_num(a):\n",
        "  square = []\n",
        "  for num in a:\n",
        "    square.append(num**2)\n",
        "  return square\n",
        "\n",
        "square_num(a)"
      ],
      "metadata": {
        "id": "I7Hwbr8yeIXw",
        "colab": {
          "base_uri": "https://localhost:8080/"
        },
        "outputId": "d7eff703-11ee-4c0e-aacb-522e9f5dacd9"
      },
      "execution_count": null,
      "outputs": [
        {
          "output_type": "execute_result",
          "data": {
            "text/plain": [
              "[1, 4, 9, 16, 25]"
            ]
          },
          "metadata": {},
          "execution_count": 11
        }
      ]
    },
    {
      "cell_type": "code",
      "source": [
        "# 4. Write a Python function that checks if a given number is prime or not from 1 to 200.\n",
        "def prime_num(a):\n",
        "  for num in a:\n",
        "    if num ==1:\n",
        "      print(num, 'num is neither prime nor integer')\n",
        "    elif num == 2 or num == 3:\n",
        "      print(num, \"num is prime\")\n",
        "    elif num%2 == 0 or num%3 == 0:\n",
        "      print(num, \"num is not prime\")\n",
        "    else:\n",
        "      print(num, \"num is prime\")\n",
        "\n",
        "prime_num(range(1, 201))"
      ],
      "metadata": {
        "colab": {
          "base_uri": "https://localhost:8080/"
        },
        "id": "AWjuITaf_Ho9",
        "outputId": "64a45543-eac5-4fb7-c32f-c6e87a97d730"
      },
      "execution_count": null,
      "outputs": [
        {
          "output_type": "stream",
          "name": "stdout",
          "text": [
            "1 num is neither prime nor integer\n",
            "2 num is prime\n",
            "3 num is prime\n",
            "4 num is not prime\n",
            "5 num is prime\n",
            "6 num is not prime\n",
            "7 num is prime\n",
            "8 num is not prime\n",
            "9 num is not prime\n",
            "10 num is not prime\n",
            "11 num is prime\n",
            "12 num is not prime\n",
            "13 num is prime\n",
            "14 num is not prime\n",
            "15 num is not prime\n",
            "16 num is not prime\n",
            "17 num is prime\n",
            "18 num is not prime\n",
            "19 num is prime\n",
            "20 num is not prime\n",
            "21 num is not prime\n",
            "22 num is not prime\n",
            "23 num is prime\n",
            "24 num is not prime\n",
            "25 num is prime\n",
            "26 num is not prime\n",
            "27 num is not prime\n",
            "28 num is not prime\n",
            "29 num is prime\n",
            "30 num is not prime\n",
            "31 num is prime\n",
            "32 num is not prime\n",
            "33 num is not prime\n",
            "34 num is not prime\n",
            "35 num is prime\n",
            "36 num is not prime\n",
            "37 num is prime\n",
            "38 num is not prime\n",
            "39 num is not prime\n",
            "40 num is not prime\n",
            "41 num is prime\n",
            "42 num is not prime\n",
            "43 num is prime\n",
            "44 num is not prime\n",
            "45 num is not prime\n",
            "46 num is not prime\n",
            "47 num is prime\n",
            "48 num is not prime\n",
            "49 num is prime\n",
            "50 num is not prime\n",
            "51 num is not prime\n",
            "52 num is not prime\n",
            "53 num is prime\n",
            "54 num is not prime\n",
            "55 num is prime\n",
            "56 num is not prime\n",
            "57 num is not prime\n",
            "58 num is not prime\n",
            "59 num is prime\n",
            "60 num is not prime\n",
            "61 num is prime\n",
            "62 num is not prime\n",
            "63 num is not prime\n",
            "64 num is not prime\n",
            "65 num is prime\n",
            "66 num is not prime\n",
            "67 num is prime\n",
            "68 num is not prime\n",
            "69 num is not prime\n",
            "70 num is not prime\n",
            "71 num is prime\n",
            "72 num is not prime\n",
            "73 num is prime\n",
            "74 num is not prime\n",
            "75 num is not prime\n",
            "76 num is not prime\n",
            "77 num is prime\n",
            "78 num is not prime\n",
            "79 num is prime\n",
            "80 num is not prime\n",
            "81 num is not prime\n",
            "82 num is not prime\n",
            "83 num is prime\n",
            "84 num is not prime\n",
            "85 num is prime\n",
            "86 num is not prime\n",
            "87 num is not prime\n",
            "88 num is not prime\n",
            "89 num is prime\n",
            "90 num is not prime\n",
            "91 num is prime\n",
            "92 num is not prime\n",
            "93 num is not prime\n",
            "94 num is not prime\n",
            "95 num is prime\n",
            "96 num is not prime\n",
            "97 num is prime\n",
            "98 num is not prime\n",
            "99 num is not prime\n",
            "100 num is not prime\n",
            "101 num is prime\n",
            "102 num is not prime\n",
            "103 num is prime\n",
            "104 num is not prime\n",
            "105 num is not prime\n",
            "106 num is not prime\n",
            "107 num is prime\n",
            "108 num is not prime\n",
            "109 num is prime\n",
            "110 num is not prime\n",
            "111 num is not prime\n",
            "112 num is not prime\n",
            "113 num is prime\n",
            "114 num is not prime\n",
            "115 num is prime\n",
            "116 num is not prime\n",
            "117 num is not prime\n",
            "118 num is not prime\n",
            "119 num is prime\n",
            "120 num is not prime\n",
            "121 num is prime\n",
            "122 num is not prime\n",
            "123 num is not prime\n",
            "124 num is not prime\n",
            "125 num is prime\n",
            "126 num is not prime\n",
            "127 num is prime\n",
            "128 num is not prime\n",
            "129 num is not prime\n",
            "130 num is not prime\n",
            "131 num is prime\n",
            "132 num is not prime\n",
            "133 num is prime\n",
            "134 num is not prime\n",
            "135 num is not prime\n",
            "136 num is not prime\n",
            "137 num is prime\n",
            "138 num is not prime\n",
            "139 num is prime\n",
            "140 num is not prime\n",
            "141 num is not prime\n",
            "142 num is not prime\n",
            "143 num is prime\n",
            "144 num is not prime\n",
            "145 num is prime\n",
            "146 num is not prime\n",
            "147 num is not prime\n",
            "148 num is not prime\n",
            "149 num is prime\n",
            "150 num is not prime\n",
            "151 num is prime\n",
            "152 num is not prime\n",
            "153 num is not prime\n",
            "154 num is not prime\n",
            "155 num is prime\n",
            "156 num is not prime\n",
            "157 num is prime\n",
            "158 num is not prime\n",
            "159 num is not prime\n",
            "160 num is not prime\n",
            "161 num is prime\n",
            "162 num is not prime\n",
            "163 num is prime\n",
            "164 num is not prime\n",
            "165 num is not prime\n",
            "166 num is not prime\n",
            "167 num is prime\n",
            "168 num is not prime\n",
            "169 num is prime\n",
            "170 num is not prime\n",
            "171 num is not prime\n",
            "172 num is not prime\n",
            "173 num is prime\n",
            "174 num is not prime\n",
            "175 num is prime\n",
            "176 num is not prime\n",
            "177 num is not prime\n",
            "178 num is not prime\n",
            "179 num is prime\n",
            "180 num is not prime\n",
            "181 num is prime\n",
            "182 num is not prime\n",
            "183 num is not prime\n",
            "184 num is not prime\n",
            "185 num is prime\n",
            "186 num is not prime\n",
            "187 num is prime\n",
            "188 num is not prime\n",
            "189 num is not prime\n",
            "190 num is not prime\n",
            "191 num is prime\n",
            "192 num is not prime\n",
            "193 num is prime\n",
            "194 num is not prime\n",
            "195 num is not prime\n",
            "196 num is not prime\n",
            "197 num is prime\n",
            "198 num is not prime\n",
            "199 num is prime\n",
            "200 num is not prime\n"
          ]
        }
      ]
    },
    {
      "cell_type": "code",
      "source": [
        "# 5. Create an iterator class in Python that generates the Fibonacci sequence up to a specified number of terms.\n",
        "def fibonachi(a):\n",
        "  count = []\n",
        "  for num in range(0,a):\n",
        "    #print(num)\n",
        "    count = num + 1\n",
        "\n",
        "    print(count)\n",
        "\n",
        "fibonachi(10)"
      ],
      "metadata": {
        "colab": {
          "base_uri": "https://localhost:8080/"
        },
        "id": "N1OraapBB22-",
        "outputId": "fb34fe0c-6f66-4405-a5fe-e484353cfdea"
      },
      "execution_count": null,
      "outputs": [
        {
          "output_type": "stream",
          "name": "stdout",
          "text": [
            "1\n",
            "2\n",
            "3\n",
            "4\n",
            "5\n",
            "6\n",
            "7\n",
            "8\n",
            "9\n",
            "10\n"
          ]
        }
      ]
    },
    {
      "cell_type": "code",
      "source": [
        "# 5. Create an iterator class in Python that generates the Fibonacci sequence up to a specified number of terms.\n",
        "#def fibonachi(a):\n",
        "def fibonacci(n):\n",
        "    a, b = 0, 1\n",
        "    for _ in range(n):\n",
        "        yield a\n",
        "        a, b = b, a + b\n",
        "\n",
        "#fibonacci(10)\n",
        "#Generate the Fibonacci sequence up to 10 terms\n",
        "for num in fibonacci(10):\n",
        "  print(num)"
      ],
      "metadata": {
        "colab": {
          "base_uri": "https://localhost:8080/"
        },
        "id": "c6wqW9lQNpqX",
        "outputId": "2386454a-939c-42a7-be12-c68f8f76b3fa"
      },
      "execution_count": null,
      "outputs": [
        {
          "output_type": "stream",
          "name": "stdout",
          "text": [
            "0\n",
            "1\n",
            "1\n",
            "2\n",
            "3\n",
            "5\n",
            "8\n",
            "13\n",
            "21\n",
            "34\n"
          ]
        }
      ]
    },
    {
      "cell_type": "code",
      "source": [
        "# 6. Write a generator function in Python that yields the powers of 2 up to a given exponent\n",
        "def power_num(a):\n",
        "  for num in range(a):\n",
        "    print(\"\\t\",num)\n",
        "    yield 2**num\n",
        "\n",
        "for num in power_num(10):\n",
        "  print(num)"
      ],
      "metadata": {
        "colab": {
          "base_uri": "https://localhost:8080/"
        },
        "id": "zV6SIgaYedZG",
        "outputId": "eb31a8c8-26bf-48bd-fa53-80dc585d1017"
      },
      "execution_count": null,
      "outputs": [
        {
          "output_type": "stream",
          "name": "stdout",
          "text": [
            "\t 0\n",
            "1\n",
            "\t 1\n",
            "2\n",
            "\t 2\n",
            "4\n",
            "\t 3\n",
            "8\n",
            "\t 4\n",
            "16\n",
            "\t 5\n",
            "32\n",
            "\t 6\n",
            "64\n",
            "\t 7\n",
            "128\n",
            "\t 8\n",
            "256\n",
            "\t 9\n",
            "512\n"
          ]
        }
      ]
    },
    {
      "cell_type": "code",
      "source": [
        "# 7. Implement a generator function that reads a file line by line and yields each line as a string\n",
        "def read_file(a):\n",
        "  for word in a:\n",
        "    yield word\n",
        "for w in read_file(\"whatsupp PW skills its Suhaag's assignment\"):\n",
        "  print(w)\n",
        "  #read_file(\"whatsupp PW skills its Suhaag's assignment\")"
      ],
      "metadata": {
        "colab": {
          "base_uri": "https://localhost:8080/"
        },
        "id": "jXdP4SFSequf",
        "outputId": "9a0fb0aa-df85-47e1-a768-a3b6bba14c23"
      },
      "execution_count": null,
      "outputs": [
        {
          "output_type": "stream",
          "name": "stdout",
          "text": [
            "w\n",
            "h\n",
            "a\n",
            "t\n",
            "s\n",
            "u\n",
            "p\n",
            "p\n",
            " \n",
            "P\n",
            "W\n",
            " \n",
            "s\n",
            "k\n",
            "i\n",
            "l\n",
            "l\n",
            "s\n",
            " \n",
            "i\n",
            "t\n",
            "s\n",
            " \n",
            "S\n",
            "u\n",
            "h\n",
            "a\n",
            "a\n",
            "g\n",
            "'\n",
            "s\n",
            " \n",
            "a\n",
            "s\n",
            "s\n",
            "i\n",
            "g\n",
            "n\n",
            "m\n",
            "e\n",
            "n\n",
            "t\n"
          ]
        }
      ]
    },
    {
      "cell_type": "code",
      "source": [
        "def read_file_lines(filename):\n",
        "  with open(filename, 'r') as file:\n",
        "    for line in file:\n",
        "      yield line.rstrip()\n",
        "\n",
        "with open('my_file.txt', 'w') as file:\n",
        "  file.write('Line 1\\nLine 2\\nLine 3')\n",
        "\n",
        "for line in read_file_lines('my_file.txt'):\n",
        "  print(line)"
      ],
      "metadata": {
        "colab": {
          "base_uri": "https://localhost:8080/"
        },
        "id": "eRoSaIG6s9lA",
        "outputId": "38d998d5-b753-43c7-f71e-ddbfe3af9618"
      },
      "execution_count": null,
      "outputs": [
        {
          "output_type": "stream",
          "name": "stdout",
          "text": [
            "Line 1\n",
            "Line 2\n",
            "Line 3\n"
          ]
        }
      ]
    },
    {
      "cell_type": "code",
      "source": [
        "# 8. Use a lambda function in Python to sort a list of tuples based on the second element of each tuple\n",
        "lst = [(1, 3), (4, 2), (2, 5), (8, 4)]\n",
        "key = lambda x:x[1]\n",
        "sorted_lst = sorted(lst, key = key)\n",
        "print(sorted_lst)"
      ],
      "metadata": {
        "colab": {
          "base_uri": "https://localhost:8080/"
        },
        "id": "CoAKyo4KtpJY",
        "outputId": "fb6826b4-766f-47fe-fa05-961861cd59bb"
      },
      "execution_count": null,
      "outputs": [
        {
          "output_type": "stream",
          "name": "stdout",
          "text": [
            "[(4, 2), (1, 3), (8, 4), (2, 5)]\n"
          ]
        }
      ]
    },
    {
      "cell_type": "code",
      "source": [
        "# 9. Write a Python program that uses `map()` to convert a list of temperatures from Celsius to Fahrenheit\n",
        "celsius = [45, 23, 14, 21]\n",
        "fahrenheit = list(map(lambda x: (x*9/5)+32, celsius))\n",
        "print(fahrenheit)"
      ],
      "metadata": {
        "colab": {
          "base_uri": "https://localhost:8080/"
        },
        "id": "cy9Ey7l7whUb",
        "outputId": "273b3bf2-cc52-4b39-f88b-532ed6d92f4b"
      },
      "execution_count": null,
      "outputs": [
        {
          "output_type": "stream",
          "name": "stdout",
          "text": [
            "[113.0, 73.4, 57.2, 69.8]\n"
          ]
        }
      ]
    },
    {
      "cell_type": "code",
      "source": [
        "# 10. Create a Python program that uses `filter()` to remove all the vowels from a given string.\n",
        "arr=\"hey hello world\"\n",
        "vowels = \"aeiouAEIOU\"\n",
        "remove_v = list(filter(lambda x:x not in vowels , arr))\n",
        "remove_vowels = \" \".join(remove_v)\n",
        "print(remove_vowels)"
      ],
      "metadata": {
        "colab": {
          "base_uri": "https://localhost:8080/"
        },
        "id": "5saGv610xlfZ",
        "outputId": "43440ab9-501f-4e30-9a48-230c6ed9c3ae"
      },
      "execution_count": null,
      "outputs": [
        {
          "output_type": "stream",
          "name": "stdout",
          "text": [
            "h y   h l l   w r l d\n"
          ]
        }
      ]
    },
    {
      "cell_type": "markdown",
      "source": [
        "![Screenshot 2024-09-18 165132.png](data:image/png;base64,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)"
      ],
      "metadata": {
        "id": "qcRNRHDz3OHJ"
      }
    },
    {
      "cell_type": "code",
      "source": [
        "# 11\n",
        "order = [[34587,4, 40.95], [98762, 5, 56.80], [77226, 3, 32.95], [88112, 3, 24.99]]\n",
        "def process_order(order):\n",
        "  total_value= 0\n",
        "  for num in order:\n",
        "    total_value += (num[2])\n",
        "\n",
        "    if total_value < 100:\n",
        "      total_value += (10)\n",
        "\n",
        "  print(f\" order sum is {total_value}\")\n",
        "\n",
        "process_order(order)"
      ],
      "metadata": {
        "colab": {
          "base_uri": "https://localhost:8080/"
        },
        "id": "FjASIakmzk8B",
        "outputId": "22eb7586-d636-4931-e7a5-22530cf80fbc"
      },
      "execution_count": null,
      "outputs": [
        {
          "output_type": "stream",
          "name": "stdout",
          "text": [
            " order sum is 165.69\n"
          ]
        }
      ]
    },
    {
      "cell_type": "code",
      "source": [],
      "metadata": {
        "id": "fhyQiEPZEb1r"
      },
      "execution_count": null,
      "outputs": []
    }
  ]
}